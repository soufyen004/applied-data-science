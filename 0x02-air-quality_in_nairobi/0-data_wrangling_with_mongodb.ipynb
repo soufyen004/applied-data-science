{
 "cells": [
  {
   "cell_type": "markdown",
   "metadata": {},
   "source": [
    "## Wrangling Data with MongoDB"
   ]
  },
  {
   "cell_type": "markdown",
   "metadata": {},
   "source": [
    "Goals:\n",
    "- Connect to a MongoDB Server\n",
    "- Explore the database and locate PM2.5 readings\n",
    "- Import database query into DataFrame"
   ]
  },
  {
   "cell_type": "code",
   "execution_count": 1,
   "metadata": {},
   "outputs": [],
   "source": [
    "from pprint import PrettyPrinter\n",
    "\n",
    "import pandas as pd\n",
    "from pymongo import MongoClient"
   ]
  },
  {
   "cell_type": "code",
   "execution_count": 3,
   "metadata": {},
   "outputs": [],
   "source": [
    "sept_url=\"https://openafrica.net/dataset/44359020-b2b0-4b66-af09-3de18d6519dc/resource/01e39e28-19c8-405e-b0fd-a1c9f4c4b01d/download/september_2018_sensor_data_archive.csv\"\n",
    "oct_url =\"https://openafrica.net/dataset/44359020-b2b0-4b66-af09-3de18d6519dc/resource/53510747-aaff-458b-87a9-66d09c8b37b9/download/october_2018_sensor_data_archive.csv\"\n",
    "nov_url=\"https://openafrica.net/dataset/44359020-b2b0-4b66-af09-3de18d6519dc/resource/530b63f3-4027-4e95-80cc-6efd4dc45af9/download/november_2018_sensor_data_archive.csv\"\n",
    "dec_ur=\"https://openafrica.net/dataset/44359020-b2b0-4b66-af09-3de18d6519dc/resource/9d6ce0cd-b6e6-45ff-b6f1-13ba55686d23/download/december_2018_sensor_data_archive.csv\"\n",
    "\n"
   ]
  },
  {
   "cell_type": "code",
   "execution_count": 5,
   "metadata": {},
   "outputs": [],
   "source": [
    "# sept_df = pd.read_csv(sept_url)\n",
    "# oct_df = pd.read_csv(oct_url)\n",
    "# nov_df = pd.read_csv(nov_url)\n",
    "# dec_df = pd.read_csv(dec_ur)\n",
    "# df = pd.concat(sept_df,oct_df,nov_df,dec_df)"
   ]
  },
  {
   "cell_type": "code",
   "execution_count": 3,
   "metadata": {},
   "outputs": [],
   "source": [
    "pp = PrettyPrinter(indent=2)"
   ]
  },
  {
   "cell_type": "markdown",
   "metadata": {},
   "source": [
    "### Connect"
   ]
  },
  {
   "cell_type": "code",
   "execution_count": 5,
   "metadata": {},
   "outputs": [
    {
     "data": {
      "text/plain": [
       "MongoClient(host=['localhost:27017'], document_class=dict, tz_aware=False, connect=True)"
      ]
     },
     "execution_count": 5,
     "metadata": {},
     "output_type": "execute_result"
    }
   ],
   "source": [
    "client = MongoClient(host=\"localhost\", port=27017)\n",
    "client"
   ]
  },
  {
   "cell_type": "markdown",
   "metadata": {},
   "source": [
    "### Explore"
   ]
  },
  {
   "cell_type": "code",
   "execution_count": null,
   "metadata": {},
   "outputs": [],
   "source": [
    "pp.pprint(list(client.list_databases()))"
   ]
  },
  {
   "cell_type": "code",
   "execution_count": null,
   "metadata": {},
   "outputs": [],
   "source": [
    "# [ {'empty': False, 'name': 'admin', 'sizeOnDisk': 40960},\n",
    "#   {'empty': False, 'name': 'air-quality', 'sizeOnDisk': 4190208},\n",
    "#   {'empty': False, 'name': 'config', 'sizeOnDisk': 61440},\n",
    "#   {'empty': False, 'name': 'local', 'sizeOnDisk': 73728},\n",
    "#   {'empty': False, 'name': 'wqu-abtest', 'sizeOnDisk': 585728}]"
   ]
  },
  {
   "cell_type": "markdown",
   "metadata": {},
   "source": [
    "Asign the \"air-quality\" database to a variable db"
   ]
  },
  {
   "cell_type": "code",
   "execution_count": null,
   "metadata": {},
   "outputs": [],
   "source": [
    "db = client[\"air-quality\"]"
   ]
  },
  {
   "cell_type": "markdown",
   "metadata": {},
   "source": [
    "List Collections"
   ]
  },
  {
   "cell_type": "code",
   "execution_count": null,
   "metadata": {},
   "outputs": [],
   "source": [
    "list(db.list_collections())[0]"
   ]
  },
  {
   "cell_type": "code",
   "execution_count": 9,
   "metadata": {},
   "outputs": [],
   "source": [
    "# {'name': 'lagos',\n",
    "#  'type': 'timeseries',\n",
    "#  'options': {'timeseries': {'timeField': 'timestamp',\n",
    "#    'metaField': 'metadata',\n",
    "#    'granularity': 'seconds',\n",
    "#    'bucketMaxSpanSeconds': 3600}},\n",
    "#  'info': {'readOnly': False}}"
   ]
  },
  {
   "cell_type": "code",
   "execution_count": null,
   "metadata": {},
   "outputs": [],
   "source": [
    "for c in db.list_collections():\n",
    "    print(c[\"name\"])"
   ]
  },
  {
   "cell_type": "code",
   "execution_count": null,
   "metadata": {},
   "outputs": [],
   "source": [
    "# lagos\n",
    "# system.buckets.lagos\n",
    "# system.views\n",
    "# dar-es-salaam\n",
    "# system.buckets.dar-es-salaam\n",
    "# nairobi\n",
    "# system.buckets.nairobi"
   ]
  },
  {
   "cell_type": "markdown",
   "metadata": {},
   "source": [
    "Asign Collections"
   ]
  },
  {
   "cell_type": "code",
   "execution_count": null,
   "metadata": {},
   "outputs": [],
   "source": [
    "nairobi = db[\"nairobi\"]"
   ]
  },
  {
   "cell_type": "markdown",
   "metadata": {},
   "source": [
    "Count Documents"
   ]
  },
  {
   "cell_type": "code",
   "execution_count": null,
   "metadata": {},
   "outputs": [],
   "source": [
    "nairobi.count_documents({})\n",
    "# 202212"
   ]
  },
  {
   "cell_type": "markdown",
   "metadata": {},
   "source": [
    "Find One Document"
   ]
  },
  {
   "cell_type": "code",
   "execution_count": null,
   "metadata": {},
   "outputs": [],
   "source": [
    "result = nairobi.find_one({})\n",
    "pp.pprint(result)"
   ]
  },
  {
   "cell_type": "code",
   "execution_count": null,
   "metadata": {},
   "outputs": [],
   "source": [
    "# { '_id': ObjectId('6525d772f44bfedd842a6fcc'),\n",
    "#   'metadata': { 'lat': -1.3,\n",
    "#                 'lon': 36.785,\n",
    "#                 'measurement': 'temperature',\n",
    "#                 'sensor_id': 58,\n",
    "#                 'sensor_type': 'DHT22',\n",
    "#                 'site': 29},\n",
    "#   'temperature': 16.5,\n",
    "#   'timestamp': datetime.datetime(2018, 9, 1, 0, 0, 4, 301000)}"
   ]
  },
  {
   "cell_type": "markdown",
   "metadata": {},
   "source": [
    "Distinct Censor Sites"
   ]
  },
  {
   "cell_type": "code",
   "execution_count": null,
   "metadata": {},
   "outputs": [],
   "source": [
    "nairobi.distinct(\"metadata.site\")\n",
    "Output:\n",
    "[6, 29]"
   ]
  },
  {
   "cell_type": "markdown",
   "metadata": {},
   "source": [
    "Count Documents by Site: Which site has more data?"
   ]
  },
  {
   "cell_type": "code",
   "execution_count": null,
   "metadata": {},
   "outputs": [],
   "source": [
    "print(\"Documents from site 6:\", nairobi.count_documents({\"metadata.site\": 6}))\n",
    "print(\"Documents from site 29:\", nairobi.count_documents({\"metadata.site\": 29}))\n",
    "\n",
    "Output:\n",
    "Documents from site 6: 70360\n",
    "Documents from site 29: 13185"
   ]
  },
  {
   "cell_type": "markdown",
   "metadata": {},
   "source": [
    "Aggregate Documents"
   ]
  },
  {
   "cell_type": "code",
   "execution_count": 10,
   "metadata": {},
   "outputs": [
    {
     "data": {
      "text/plain": [
       "333"
      ]
     },
     "execution_count": 10,
     "metadata": {},
     "output_type": "execute_result"
    }
   ],
   "source": [
    "result = nairobi.aggregate(\n",
    "    [{\n",
    "        \"$group\":{\"_id\": \"$metadata.site\"}\n",
    "    }])\n",
    "pp.pprint(list(result))"
   ]
  },
  {
   "cell_type": "markdown",
   "metadata": {},
   "source": [
    "Distinct Measurements"
   ]
  },
  {
   "cell_type": "code",
   "execution_count": null,
   "metadata": {},
   "outputs": [],
   "source": [
    "nairobi.distinct(\"metadata.measurement\")\n",
    "['P2', 'humidity', 'P1', 'temperature']"
   ]
  },
  {
   "cell_type": "markdown",
   "metadata": {},
   "source": [
    "Find PM2.5 Readings"
   ]
  },
  {
   "cell_type": "code",
   "execution_count": null,
   "metadata": {},
   "outputs": [],
   "source": [
    "result = nairobi.find({\"metadata.measurement\": \"P2\"}).limit(3)\n",
    "pp.pprint(list(result))"
   ]
  },
  {
   "cell_type": "code",
   "execution_count": null,
   "metadata": {},
   "outputs": [],
   "source": [
    "[ { 'P2': 34.43,\n",
    "    '_id': ObjectId('6525d775f44bfedd842bf24d'),\n",
    "    'metadata': { 'lat': -1.3,\n",
    "                  'lon': 36.785,\n",
    "                  'measurement': 'P2',\n",
    "                  'sensor_id': 57,\n",
    "                  'sensor_type': 'SDS011',\n",
    "                  'site': 29},\n",
    "    'timestamp': datetime.datetime(2018, 9, 1, 0, 0, 2, 472000)},\n",
    "  { 'P2': 30.53,\n",
    "    '_id': ObjectId('6525d775f44bfedd842bf24e'),\n",
    "    'metadata': { 'lat': -1.3,\n",
    "                  'lon': 36.785,\n",
    "                  'measurement': 'P2',\n",
    "                  'sensor_id': 57,\n",
    "                  'sensor_type': 'SDS011',\n",
    "                  'site': 29},\n",
    "    'timestamp': datetime.datetime(2018, 9, 1, 0, 5, 3, 941000)},\n",
    "  { 'P2': 22.8,\n",
    "    '_id': ObjectId('6525d775f44bfedd842bf24f'),\n",
    "    'metadata': { 'lat': -1.3,\n",
    "                  'lon': 36.785,\n",
    "                  'measurement': 'P2',\n",
    "                  'sensor_id': 57,\n",
    "                  'sensor_type': 'SDS011',\n",
    "                  'site': 29},"
   ]
  },
  {
   "cell_type": "markdown",
   "metadata": {},
   "source": [
    "Aggregate by Measurement I"
   ]
  },
  {
   "cell_type": "code",
   "execution_count": null,
   "metadata": {},
   "outputs": [],
   "source": [
    "\n",
    "result = nairobi.aggregate(\n",
    "    [\n",
    "        {\"$match\":{\"metadata.site\": 6}},  \n",
    "        {\"$group\":{\"_id\": \"$metadata.measurement\", \"count\": {\"$count\": {}}}}\n",
    "    ]\n",
    ")\n",
    "pp.pprint(list(result))"
   ]
  },
  {
   "cell_type": "code",
   "execution_count": null,
   "metadata": {},
   "outputs": [],
   "source": [
    "[ {'_id': 'humidity', 'count': 17011},\n",
    "  {'_id': 'P1', 'count': 18169},\n",
    "  {'_id': 'temperature', 'count': 17011},\n",
    "  {'_id': 'P2', 'count': 18169}]"
   ]
  },
  {
   "cell_type": "markdown",
   "metadata": {},
   "source": [
    "Aggregate by Measurement II"
   ]
  },
  {
   "cell_type": "code",
   "execution_count": null,
   "metadata": {},
   "outputs": [],
   "source": [
    "\n",
    "result = nairobi.aggregate(\n",
    "    [\n",
    "        {\"$match\":{\"metadata.site\": 29}},  \n",
    "        {\"$group\":{\"_id\": \"$metadata.measurement\", \"count\": {\"$count\": {}}}}\n",
    "    ]\n",
    ")\n",
    "pp.pprint(list(result))"
   ]
  },
  {
   "cell_type": "code",
   "execution_count": null,
   "metadata": {},
   "outputs": [],
   "source": [
    "[ {'_id': 'P1', 'count': 32907},\n",
    "  {'_id': 'humidity', 'count': 33019},\n",
    "  {'_id': 'temperature', 'count': 33019},\n",
    "  {'_id': 'P2', 'count': 32907}]"
   ]
  },
  {
   "cell_type": "markdown",
   "metadata": {},
   "source": [
    "### Import"
   ]
  },
  {
   "cell_type": "markdown",
   "metadata": {},
   "source": [
    "Find by Site and Measurement"
   ]
  },
  {
   "cell_type": "code",
   "execution_count": null,
   "metadata": {},
   "outputs": [],
   "source": [
    "result = nairobi.find(\n",
    "    {\"metadata.site\" : 29, \"metadata.measurement\": \"P2\"},\n",
    "    projection={\"P2\": 1, \"timestamp\": 1, \"_id\": 0}\n",
    ")\n",
    "pp.pprint(result.next())"
   ]
  },
  {
   "cell_type": "code",
   "execution_count": null,
   "metadata": {},
   "outputs": [],
   "source": [
    "{'P2': 34.43, 'timestamp': datetime.datetime(2018, 9, 1, 0, 0, 2, 472000)}"
   ]
  },
  {
   "cell_type": "markdown",
   "metadata": {},
   "source": [
    "Read Query Into DataFrame"
   ]
  },
  {
   "cell_type": "code",
   "execution_count": null,
   "metadata": {},
   "outputs": [],
   "source": [
    "df = pd.DataFrame(result).set_index(\"timestamp\")\n",
    "df.head()"
   ]
  }
 ],
 "metadata": {
  "kernelspec": {
   "display_name": "Python 3",
   "language": "python",
   "name": "python3"
  },
  "language_info": {
   "codemirror_mode": {
    "name": "ipython",
    "version": 3
   },
   "file_extension": ".py",
   "mimetype": "text/x-python",
   "name": "python",
   "nbconvert_exporter": "python",
   "pygments_lexer": "ipython3",
   "version": "3.12.1"
  }
 },
 "nbformat": 4,
 "nbformat_minor": 2
}
