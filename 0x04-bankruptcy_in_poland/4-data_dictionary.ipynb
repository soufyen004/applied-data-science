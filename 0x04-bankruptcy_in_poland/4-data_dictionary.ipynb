{
 "cells": [
  {
   "cell_type": "markdown",
   "metadata": {},
   "source": [
    "# Data Dictionary"
   ]
  },
  {
   "cell_type": "markdown",
   "metadata": {},
   "source": [
    "Data source: https://archive.ics.uci.edu/dataset/365/polish+companies+bankruptcy+data"
   ]
  },
  {
   "cell_type": "markdown",
   "metadata": {},
   "source": [
    "| feature    | description                                                                                                         |  \n",
    "| :--------- | :------------------------------------------------------------------------------------------------------------------ |  \n",
    "| **A1**  | net profit / total assets                                                                                           |  \n",
    "| **A2**  | total liabilities / total assets                                                                                    |  \n",
    "| **A3**  | working capital / total assets                                                                                      |  \n",
    "| **A4**  | current assets / short-term liabilities                                                                             |  \n",
    "| **A5**  | [(cash + short-term securities + receivables - short-term liabilities) / (operating expenses - depreciation)] * 365 |  \n",
    "| **A6**  | retained earnings / total assets                                                                                    |  \n",
    "| **A7**  | EBIT / total assets                                                                                                 |  \n",
    "| **A8**  | book value of equity / total liabilities                                                                            |  \n",
    "| **A9**  | sales / total assets                                                                                                |  \n",
    "| **A10** | equity / total assets                                                                                               |  \n",
    "| **A11** | (gross profit + extraordinary items + financial expenses) / total assets                                            |  \n",
    "| **A12** | gross profit / short-term liabilities                                                                               |  \n",
    "| **A13** | (gross profit + depreciation) / sales                                                                               |  \n",
    "| **A14** | (gross profit + interest) / total assets                                                                            |  \n",
    "| **A15** | (total liabilities * 365) / (gross profit + depreciation)                                                           |  \n",
    "| **A16** | (gross profit + depreciation) / total liabilities                                                                   |  \n",
    "| **A17** | total assets / total liabilities                                                                                    |  \n",
    "| **A18** | gross profit / total assets                                                                                         |  \n",
    "| **A19** | gross profit / sales                                                                                                |  \n",
    "| **A20** | (inventory * 365) / sales                                                                                           |  \n",
    "| **A21** | sales (n) / sales (n-1)                                                                                             |  \n",
    "| **A22** | profit on operating activities / total assets                                                                       |  \n",
    "| **A23** | net profit / sales                                                                                                  |  \n",
    "| **A24** | gross profit (in 3 years) / total assets                                                                            |  \n",
    "| **A25** | (equity - share capital) / total assets                                                                             |  \n",
    "| **A26** | (net profit + depreciation) / total liabilities                                                                     |  \n",
    "| **A27** | profit on operating activities / financial expenses                                                                 |  \n",
    "| **A28** | working capital / fixed assets                                                                                      |  \n",
    "| **A29** | logarithm of total assets                                                                                           |  \n",
    "| **A30** | (total liabilities - cash) / sales                                                                                  |  \n",
    "| **A31** | (gross profit + interest) / sales                                                                                   |  \n",
    "| **A32** | (current liabilities * 365) / cost of products sold                                                                 |  \n",
    "| **A33** | operating expenses / short-term liabilities                                                                         |  \n",
    "| **A34** | operating expenses / total liabilities                                                                              |  \n",
    "| **A35** | profit on sales / total assets                                                                                      |  \n",
    "| **A36** | total sales / total assets                                                                                          |  \n",
    "| **A37** | (current assets - inventories) / long-term liabilities                                                              |  \n",
    "| **A38** | constant capital / total assets                                                                                     |  \n",
    "| **A39** | profit on sales / sales                                                                                             |  \n",
    "| **A40** | (current assets - inventory - receivables) / short-term liabilities                                                 |  \n",
    "| **A41** | total liabilities / ((profit on operating activities + depreciation) * (12/365))                                    |  \n",
    "| **A42** | profit on operating activities / sales                                                                              |  \n",
    "| **A43** | rotation receivables + inventory turnover in days                                                                   |  \n",
    "| **A44** | (receivables * 365) / sales                                                                                         |  \n",
    "| **A45** | net profit / inventory                                                                                              |  \n",
    "| **A46** | (current assets - inventory) / short-term liabilities                                                               |  \n",
    "| **A47** | (inventory * 365) / cost of products sold                                                                           |  \n",
    "| **A48** | EBITDA (profit on operating activities - depreciation) / total assets                                               |  \n",
    "| **A49** | EBITDA (profit on operating activities - depreciation) / sales                                                      |  \n",
    "| **A50** | current assets / total liabilities                                                                                  |  \n",
    "| **A51** | short-term liabilities / total assets                                                                               |  \n",
    "| **A52** | (short-term liabilities * 365) / cost of products sold)                                                             |  \n",
    "| **A53** | equity / fixed assets                                                                                               |  \n",
    "| **A54** | constant capital / fixed assets                                                                                     |  \n",
    "| **A55** | working capital                                                                                                     |  \n",
    "| **A56** | (sales - cost of products sold) / sales                                                                             |  \n",
    "| **A57** | (current assets - inventory - short-term liabilities) / (sales - gross profit - depreciation)                       |  \n",
    "| **A58** | total costs /total sales                                                                                            |  \n",
    "| **A59** | long-term liabilities / equity                                                                                      |  \n",
    "| **A60** | sales / inventory                                                                                                   |  \n",
    "| **A61** | sales / receivables                                                                                                 |  \n",
    "| **A62** | (short-term liabilities *365) / sales                                                                               |  \n",
    "| **A63** | sales / short-term liabilities                                                                                      |  \n",
    "| **A64** | sales / fixed assets                                                                                                |  \n",
    "| **class** | Whether company went bankrupt at end of forecasting period (2013) |"
   ]
  }
 ],
 "metadata": {
  "kernelspec": {
   "display_name": "Python 3",
   "language": "python",
   "name": "python3"
  },
  "language_info": {
   "name": "python",
   "version": "3.12.1"
  }
 },
 "nbformat": 4,
 "nbformat_minor": 2
}
