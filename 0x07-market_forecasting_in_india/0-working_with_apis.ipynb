{
 "cells": [
  {
   "cell_type": "markdown",
   "metadata": {},
   "source": [
    "# Working with APIs"
   ]
  },
  {
   "cell_type": "markdown",
   "metadata": {},
   "source": [
    "**Project Goal**: Obatining data with APIs and transforming it to a manageable format"
   ]
  },
  {
   "cell_type": "markdown",
   "metadata": {},
   "source": [
    "Specifics:"
   ]
  },
  {
   "cell_type": "markdown",
   "metadata": {},
   "source": [
    "1. Extract stock data from the AlphaVantage API using a URL.\n",
    "2. Extract stock data from AlphaVantage API using an HTTP request.\n",
    "3.  Write a function for transforming stock data.\n",
    "4.  Incorporate Python Exceptions into the function."
   ]
  },
  {
   "cell_type": "code",
   "execution_count": 2,
   "metadata": {},
   "outputs": [],
   "source": [
    "import pandas as pd \n",
    "import requests\n",
    "import numpy as np"
   ]
  },
  {
   "cell_type": "markdown",
   "metadata": {},
   "source": [
    "### 1. Accessing APIs Through a URL"
   ]
  },
  {
   "cell_type": "markdown",
   "metadata": {},
   "source": [
    "- Idenitify components of a URL\n",
    "- Add API key to config module\n",
    "- Incorporate AlphaVantage paramters into URL"
   ]
  },
  {
   "cell_type": "markdown",
   "metadata": {},
   "source": [
    "Identify components of a URL"
   ]
  },
  {
   "cell_type": "markdown",
   "metadata": {},
   "source": [
    "Notice that this URL has several components. Let's break them down one-by-one.\n",
    "\n",
    "| URL | Component |\n",
    "|:--- | :-------- |\n",
    "| `https://www.alphavantage.co` | This is the **hostname** or **base URL**. It is the web address for the server where we can get our stock data. |\n",
    "| `/query` | This is the **path**. Most APIs have lots of different operations they can do. The path is the name of the particular operation we want to access. |\n",
    "| `?` |  This question mark denotes that everything that follows in the URL is a **parameter**. Each parameter is separated by a `&` character. These parameters provide additional information that will change the operation's behavior. This is similar to the way we pass **arguments** into functions in Python. |\n",
    "| `function=TIME_SERIES_DAILY` | Our first parameter uses the `function` keyword. The value is `TIME_SERIES_DAILY`. In this case, we're asking for **daily** stock data. |\n",
    "| `symbol=IBM` | Our second parameter uses the `symbol` keyword. So we're asking for a data on a stock whose [**ticker symbol**](https://en.wikipedia.org/wiki/Ticker_symbol) is `IBM`. |\n",
    "| `apikey=demo` | Much in the same way you need a password to access some websites, an **API key** or **API token** is the password that you'll use to access the API. |"
   ]
  },
  {
   "cell_type": "code",
   "execution_count": 3,
   "metadata": {},
   "outputs": [
    {
     "name": "stdout",
     "output_type": "stream",
     "text": [
      "url type: <class 'str'>\n"
     ]
    },
    {
     "data": {
      "text/plain": [
       "'https://www.alphavantage.co/query?function=TIME_SERIES_DAILY&symbol=AMBUJACEM.BSEapikey=apikey'"
      ]
     },
     "execution_count": 3,
     "metadata": {},
     "output_type": "execute_result"
    }
   ],
   "source": [
    "url = (\"https://www.alphavantage.co/query?\"\n",
    "       \"function=TIME_SERIES_DAILY&\"\n",
    "       \"symbol=AMBUJACEM.BSE\"\n",
    "       \"apikey=apikey\")\n",
    "\n",
    "print(\"url type:\", type(url))\n",
    "url"
   ]
  },
  {
   "cell_type": "code",
   "execution_count": 4,
   "metadata": {},
   "outputs": [],
   "source": [
    "apikey=\"1E1IHGPX4WABET4Q\""
   ]
  },
  {
   "cell_type": "markdown",
   "metadata": {},
   "source": [
    "### 2. Accessing APIs through an HTTP request"
   ]
  },
  {
   "cell_type": "markdown",
   "metadata": {},
   "source": [
    "- Defining an HTTP Request\n",
    "- Make a get request to AlphaVantage API\n",
    "- Examine contents of API response"
   ]
  },
  {
   "cell_type": "code",
   "execution_count": 5,
   "metadata": {},
   "outputs": [],
   "source": [
    "url = 'https://www.alphavantage.co/query?function=TIME_SERIES_DAILY&symbol=IBM&apikey=apikey'\n",
    "r = requests.get(url)\n",
    "data = r.json()"
   ]
  },
  {
   "cell_type": "code",
   "execution_count": 6,
   "metadata": {},
   "outputs": [
    {
     "data": {
      "text/plain": [
       "dict_keys(['Meta Data', 'Time Series (Daily)'])"
      ]
     },
     "execution_count": 6,
     "metadata": {},
     "output_type": "execute_result"
    }
   ],
   "source": [
    "data.keys()"
   ]
  },
  {
   "cell_type": "markdown",
   "metadata": {},
   "source": [
    "### 3. Defensive Programming for APIs"
   ]
  },
  {
   "cell_type": "markdown",
   "metadata": {},
   "source": [
    "- Create get_daily function\n",
    "- Raise Exceptions for bad requests "
   ]
  },
  {
   "cell_type": "code",
   "execution_count": 7,
   "metadata": {},
   "outputs": [],
   "source": [
    "def get_daily(ticker, output_size=\"full\"):\n",
    "\n",
    "    \"\"\"Get daily time series of an equity from AlphaVantage API\n",
    "\n",
    "    Parameters\n",
    "    ----------\n",
    "    ticker : str\n",
    "        The ticker symbol of the equity.\n",
    "    output_size : str, optional\n",
    "        Number of observations to retrieve. \"compact\" returns the\n",
    "        latest 100 observations. \"full\" returns all observations for\n",
    "        equity. By default \"full\".\n",
    "\n",
    "    Returns\n",
    "    -------\n",
    "    pd.DataFrame\n",
    "        Columns are 'open', 'high', 'low', 'close', and 'volume'.\n",
    "        All are numeric.\n",
    "    \"\"\"\n",
    "    # Create URL\n",
    "    url = (\"https://www.alphavantage.co/query?\"\n",
    "       \"function=TIME_SERIES_DAILY&\"\n",
    "       f\"symbol={ticker}&\"\n",
    "       f\"outputsize={output_size}&\"\n",
    "       \"datatype=json&\"\n",
    "       f\"apikey={apikey}\")\n",
    "    \n",
    "    \n",
    "    # Send request to Alphavantage API\n",
    "    response = requests.get(url=url)\n",
    "\n",
    "    # Extract JSON data from response\n",
    "    response_data = response.json()\n",
    "    if 'Time Series (Daily)' not in response_data.keys():\n",
    "        raise Exception (\n",
    "            f\"Invalid API Call.Check that ticker symbol'{ticker}' is correct\"\n",
    "        )\n",
    "    \n",
    "    # Read data into DataFrame\n",
    "    stock_data = response_data[\"Time Series (Daily)\"]\n",
    "    df = pd.DataFrame.from_dict(stock_data, orient=\"index\", dtype=float)\n",
    "    \n",
    "    # Convert index to `DatetimeIndex` named \"date\"\n",
    "    df.index = pd.to_datetime(df.index)\n",
    "    df.index.name = \"date\"\n",
    "\n",
    "    # Remove numbering from columns\n",
    "    df.columns = [c.split(\". \")[1] for c in df.columns]\n",
    "\n",
    "    # Return DataFrame\n",
    "    return df"
   ]
  },
  {
   "cell_type": "code",
   "execution_count": 8,
   "metadata": {},
   "outputs": [
    {
     "name": "stdout",
     "output_type": "stream",
     "text": [
      "<class 'pandas.core.frame.DataFrame'>\n",
      "DatetimeIndex: 4785 entries, 2024-06-05 to 2005-01-03\n",
      "Data columns (total 5 columns):\n",
      " #   Column  Non-Null Count  Dtype  \n",
      "---  ------  --------------  -----  \n",
      " 0   open    4785 non-null   float64\n",
      " 1   high    4785 non-null   float64\n",
      " 2   low     4785 non-null   float64\n",
      " 3   close   4785 non-null   float64\n",
      " 4   volume  4785 non-null   float64\n",
      "dtypes: float64(5)\n",
      "memory usage: 224.3 KB\n",
      "None\n"
     ]
    },
    {
     "data": {
      "text/html": [
       "<div>\n",
       "<style scoped>\n",
       "    .dataframe tbody tr th:only-of-type {\n",
       "        vertical-align: middle;\n",
       "    }\n",
       "\n",
       "    .dataframe tbody tr th {\n",
       "        vertical-align: top;\n",
       "    }\n",
       "\n",
       "    .dataframe thead th {\n",
       "        text-align: right;\n",
       "    }\n",
       "</style>\n",
       "<table border=\"1\" class=\"dataframe\">\n",
       "  <thead>\n",
       "    <tr style=\"text-align: right;\">\n",
       "      <th></th>\n",
       "      <th>open</th>\n",
       "      <th>high</th>\n",
       "      <th>low</th>\n",
       "      <th>close</th>\n",
       "      <th>volume</th>\n",
       "    </tr>\n",
       "    <tr>\n",
       "      <th>date</th>\n",
       "      <th></th>\n",
       "      <th></th>\n",
       "      <th></th>\n",
       "      <th></th>\n",
       "      <th></th>\n",
       "    </tr>\n",
       "  </thead>\n",
       "  <tbody>\n",
       "    <tr>\n",
       "      <th>2024-06-05</th>\n",
       "      <td>576.75</td>\n",
       "      <td>601.75</td>\n",
       "      <td>550.35</td>\n",
       "      <td>599.05</td>\n",
       "      <td>493444.0</td>\n",
       "    </tr>\n",
       "    <tr>\n",
       "      <th>2024-06-04</th>\n",
       "      <td>670.60</td>\n",
       "      <td>670.60</td>\n",
       "      <td>518.00</td>\n",
       "      <td>557.40</td>\n",
       "      <td>1110009.0</td>\n",
       "    </tr>\n",
       "    <tr>\n",
       "      <th>2024-06-03</th>\n",
       "      <td>665.05</td>\n",
       "      <td>676.65</td>\n",
       "      <td>653.20</td>\n",
       "      <td>670.60</td>\n",
       "      <td>558604.0</td>\n",
       "    </tr>\n",
       "    <tr>\n",
       "      <th>2024-05-31</th>\n",
       "      <td>628.95</td>\n",
       "      <td>639.40</td>\n",
       "      <td>623.45</td>\n",
       "      <td>634.30</td>\n",
       "      <td>84665.0</td>\n",
       "    </tr>\n",
       "    <tr>\n",
       "      <th>2024-05-30</th>\n",
       "      <td>625.05</td>\n",
       "      <td>631.15</td>\n",
       "      <td>617.00</td>\n",
       "      <td>618.70</td>\n",
       "      <td>115283.0</td>\n",
       "    </tr>\n",
       "  </tbody>\n",
       "</table>\n",
       "</div>"
      ],
      "text/plain": [
       "              open    high     low   close     volume\n",
       "date                                                 \n",
       "2024-06-05  576.75  601.75  550.35  599.05   493444.0\n",
       "2024-06-04  670.60  670.60  518.00  557.40  1110009.0\n",
       "2024-06-03  665.05  676.65  653.20  670.60   558604.0\n",
       "2024-05-31  628.95  639.40  623.45  634.30    84665.0\n",
       "2024-05-30  625.05  631.15  617.00  618.70   115283.0"
      ]
     },
     "execution_count": 8,
     "metadata": {},
     "output_type": "execute_result"
    }
   ],
   "source": [
    "# Testing the function\n",
    "df_ambuja = get_daily(ticker=\"AMBUJACEM.BSE\")\n",
    "print(df_ambuja.info())\n",
    "df_ambuja.head()"
   ]
  },
  {
   "cell_type": "code",
   "execution_count": 9,
   "metadata": {},
   "outputs": [
    {
     "ename": "Exception",
     "evalue": "Invalid API Call.Check that ticker symbol'ABUJACEM.BSE' is correct",
     "output_type": "error",
     "traceback": [
      "\u001b[1;31m---------------------------------------------------------------------------\u001b[0m",
      "\u001b[1;31mException\u001b[0m                                 Traceback (most recent call last)",
      "Cell \u001b[1;32mIn[9], line 2\u001b[0m\n\u001b[0;32m      1\u001b[0m \u001b[38;5;66;03m# Test Exception\u001b[39;00m\n\u001b[1;32m----> 2\u001b[0m df_test \u001b[38;5;241m=\u001b[39m \u001b[43mget_daily\u001b[49m\u001b[43m(\u001b[49m\u001b[43mticker\u001b[49m\u001b[38;5;241;43m=\u001b[39;49m\u001b[38;5;124;43m\"\u001b[39;49m\u001b[38;5;124;43mABUJACEM.BSE\u001b[39;49m\u001b[38;5;124;43m\"\u001b[39;49m\u001b[43m)\u001b[49m\n",
      "Cell \u001b[1;32mIn[7], line 35\u001b[0m, in \u001b[0;36mget_daily\u001b[1;34m(ticker, output_size)\u001b[0m\n\u001b[0;32m     33\u001b[0m response_data \u001b[38;5;241m=\u001b[39m response\u001b[38;5;241m.\u001b[39mjson()\n\u001b[0;32m     34\u001b[0m \u001b[38;5;28;01mif\u001b[39;00m \u001b[38;5;124m'\u001b[39m\u001b[38;5;124mTime Series (Daily)\u001b[39m\u001b[38;5;124m'\u001b[39m \u001b[38;5;129;01mnot\u001b[39;00m \u001b[38;5;129;01min\u001b[39;00m response_data\u001b[38;5;241m.\u001b[39mkeys():\n\u001b[1;32m---> 35\u001b[0m     \u001b[38;5;28;01mraise\u001b[39;00m \u001b[38;5;167;01mException\u001b[39;00m (\n\u001b[0;32m     36\u001b[0m         \u001b[38;5;124mf\u001b[39m\u001b[38;5;124m\"\u001b[39m\u001b[38;5;124mInvalid API Call.Check that ticker symbol\u001b[39m\u001b[38;5;124m'\u001b[39m\u001b[38;5;132;01m{\u001b[39;00mticker\u001b[38;5;132;01m}\u001b[39;00m\u001b[38;5;124m'\u001b[39m\u001b[38;5;124m is correct\u001b[39m\u001b[38;5;124m\"\u001b[39m\n\u001b[0;32m     37\u001b[0m     )\n\u001b[0;32m     39\u001b[0m \u001b[38;5;66;03m# Read data into DataFrame\u001b[39;00m\n\u001b[0;32m     40\u001b[0m stock_data \u001b[38;5;241m=\u001b[39m response_data[\u001b[38;5;124m\"\u001b[39m\u001b[38;5;124mTime Series (Daily)\u001b[39m\u001b[38;5;124m\"\u001b[39m]\n",
      "\u001b[1;31mException\u001b[0m: Invalid API Call.Check that ticker symbol'ABUJACEM.BSE' is correct"
     ]
    }
   ],
   "source": [
    "# Test Exception\n",
    "df_test = get_daily(ticker=\"ABUJACEM.BSE\")"
   ]
  }
 ],
 "metadata": {
  "kernelspec": {
   "display_name": "venv",
   "language": "python",
   "name": "python3"
  },
  "language_info": {
   "codemirror_mode": {
    "name": "ipython",
    "version": 3
   },
   "file_extension": ".py",
   "mimetype": "text/x-python",
   "name": "python",
   "nbconvert_exporter": "python",
   "pygments_lexer": "ipython3",
   "version": "3.12.1"
  }
 },
 "nbformat": 4,
 "nbformat_minor": 2
}
