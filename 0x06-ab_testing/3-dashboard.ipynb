{
 "cells": [
  {
   "cell_type": "markdown",
   "metadata": {},
   "source": [
    "# Dashboard"
   ]
  },
  {
   "cell_type": "markdown",
   "metadata": {},
   "source": [
    "**Project Goal:** To combine informative data visualizations and statistical analyses into a single, interactive web application. "
   ]
  },
  {
   "cell_type": "markdown",
   "metadata": {},
   "source": [
    "- Build web application layout\n",
    "- Incorporate new interactive elements\n",
    "- Use custom classes to build visualizations, read from databases, perform statistical analyses."
   ]
  },
  {
   "cell_type": "code",
   "execution_count": 1,
   "metadata": {},
   "outputs": [],
   "source": [
    "from jupyter_dash.comms import _send_jupyter_config_comm_request\n",
    "\n",
    "_send_jupyter_config_comm_request()"
   ]
  },
  {
   "cell_type": "markdown",
   "metadata": {},
   "source": [
    "#### Appl Layout"
   ]
  },
  {
   "cell_type": "markdown",
   "metadata": {},
   "source": [
    "Display demo-graph function"
   ]
  },
  {
   "cell_type": "markdown",
   "metadata": {},
   "source": [
    "MongoRepository Class"
   ]
  },
  {
   "cell_type": "code",
   "execution_count": null,
   "metadata": {},
   "outputs": [],
   "source": [
    "from database import MongoRepository\n",
    "from pymongo.collection import Collection\n",
    "\n",
    "repo = MongoRepository()\n",
    "\n",
    "# Is `MongoRepository.collection` correct type?\n",
    "assert isinstance(repo.collection, Collection)\n",
    "\n",
    "# Is repo connected to correct collection?\n",
    "collection_name = repo.collection.name\n",
    "assert collection_name == \"ds-applicants\"\n",
    "\n",
    "print(\"repo collection:\", collection_name)"
   ]
  },
  {
   "cell_type": "code",
   "execution_count": null,
   "metadata": {},
   "outputs": [],
   "source": [
    "import pandas as pd\n",
    "from database import MongoRepository\n",
    "\n",
    "repo = MongoRepository()\n",
    "\n",
    "# Does `MongoRepository.get_nationality_value_counts` return DataFrame?\n",
    "df = repo.get_nationality_value_counts(normalize=False)\n",
    "assert isinstance(df, pd.DataFrame)\n",
    "\n",
    "# Does DataFrame have correct columns?\n",
    "cols = sorted(df.columns.tolist())\n",
    "assert cols == [\"count\", \"country_iso2\", \"country_iso3\", \"country_name\"]\n",
    "df.head()"
   ]
  },
  {
   "cell_type": "markdown",
   "metadata": {},
   "source": [
    "get_nationality_value_counts"
   ]
  },
  {
   "cell_type": "code",
   "execution_count": null,
   "metadata": {},
   "outputs": [],
   "source": [
    "import pandas as pd\n",
    "from database import MongoRepository\n",
    "\n",
    "repo = MongoRepository()\n",
    "\n",
    "# Does `MongoRepository.get_nationality_value_counts` return DataFrame?\n",
    "df = repo.get_nationality_value_counts(normalize=False)\n",
    "assert isinstance(df, pd.DataFrame)\n",
    "\n",
    "# Does DataFrame have correct columns?\n",
    "cols = sorted(df.columns.tolist())\n",
    "assert cols == [\"count\", \"country_iso2\", \"country_iso3\", \"country_name\"]\n",
    "df.head()"
   ]
  },
  {
   "cell_type": "markdown",
   "metadata": {},
   "source": [
    "Graph Builder"
   ]
  },
  {
   "cell_type": "code",
   "execution_count": null,
   "metadata": {},
   "outputs": [],
   "source": [
    "from business import GraphBuilder\n",
    "from plotly.graph_objects import Figure\n",
    "\n",
    "gb = GraphBuilder()\n",
    "\n",
    "# Does `GraphBuilder.build_nat_choropleth` return a Figure?\n",
    "fig = gb.build_nat_choropleth()\n",
    "assert isinstance(fig, Figure)\n",
    "fig.show()"
   ]
  },
  {
   "cell_type": "markdown",
   "metadata": {},
   "source": []
  },
  {
   "cell_type": "code",
   "execution_count": null,
   "metadata": {},
   "outputs": [],
   "source": []
  },
  {
   "cell_type": "markdown",
   "metadata": {},
   "source": [
    "### Application Deployment"
   ]
  },
  {
   "cell_type": "code",
   "execution_count": null,
   "metadata": {},
   "outputs": [],
   "source": [
    "from display import app\n",
    "from dash import Dash\n",
    "\n",
    "app.run_server(debug=True)"
   ]
  }
 ],
 "metadata": {
  "kernelspec": {
   "display_name": "venv",
   "language": "python",
   "name": "python3"
  },
  "language_info": {
   "codemirror_mode": {
    "name": "ipython",
    "version": 3
   },
   "file_extension": ".py",
   "mimetype": "text/x-python",
   "name": "python",
   "nbconvert_exporter": "python",
   "pygments_lexer": "ipython3",
   "version": "3.12.1"
  }
 },
 "nbformat": 4,
 "nbformat_minor": 2
}
