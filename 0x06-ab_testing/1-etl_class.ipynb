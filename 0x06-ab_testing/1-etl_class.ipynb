{
 "cells": [
  {
   "cell_type": "markdown",
   "metadata": {},
   "source": [
    "# Etract, Transform, Load"
   ]
  },
  {
   "cell_type": "markdown",
   "metadata": {},
   "source": [
    "**Goal**: Exploratory Data Analysis - to design the experiment. Transform the data and load it back to the database."
   ]
  },
  {
   "cell_type": "markdown",
   "metadata": {},
   "source": [
    "Specific:\n",
    "\n",
    "- Extract applicant information regarding addmissions quiz completion.\n",
    "- Design a research question, null hypothesis and alternative hypothesis for the experiment.\n",
    "- Create functions for transforming applicant documents and loading them to a database.\n",
    "- Build a Python class to streamline the experiment."
   ]
  },
  {
   "cell_type": "code",
   "execution_count": 2,
   "metadata": {},
   "outputs": [],
   "source": [
    "import random\n",
    "\n",
    "import pandas as pd\n",
    "from pymongo import MongoClient"
   ]
  },
  {
   "cell_type": "markdown",
   "metadata": {},
   "source": [
    "### Extract"
   ]
  },
  {
   "cell_type": "markdown",
   "metadata": {},
   "source": [
    "Aggregate Clients by Quiz Completion"
   ]
  },
  {
   "cell_type": "code",
   "execution_count": 3,
   "metadata": {},
   "outputs": [],
   "source": [
    "complete = 3717\n",
    "incomplete = 1308"
   ]
  },
  {
   "cell_type": "code",
   "execution_count": 4,
   "metadata": {},
   "outputs": [
    {
     "name": "stdout",
     "output_type": "stream",
     "text": [
      "Proportion of users who don't complete admissions quiz: 0.26\n"
     ]
    }
   ],
   "source": [
    "total = complete + incomplete\n",
    "prop_incomplete = incomplete/total\n",
    "print(\n",
    "    \"Proportion of users who don't complete admissions quiz:\", round(prop_incomplete, 2)\n",
    ")"
   ]
  },
  {
   "cell_type": "markdown",
   "metadata": {},
   "source": [
    "#### Developing a Research Question"
   ]
  },
  {
   "cell_type": "markdown",
   "metadata": {},
   "source": [
    "RQ: Does sending to no-quiz applicants Increase their likelihood of taking admission exams?"
   ]
  },
  {
   "cell_type": "code",
   "execution_count": 5,
   "metadata": {},
   "outputs": [
    {
     "name": "stdout",
     "output_type": "stream",
     "text": [
      "Null Hypothesis:  No significant difference in the quiz completion between the 2 groups\n",
      "Alternate Hypothesis:  A significant difference in the quiz completion between the 2 groups\n"
     ]
    }
   ],
   "source": [
    "null_hypothesis = \" No significant difference in the quiz completion between the 2 groups\"\n",
    "\n",
    "alternate_hypothesis = \" A significant difference in the quiz completion between the 2 groups\"\n",
    "\n",
    "print(\"Null Hypothesis:\", null_hypothesis)\n",
    "print(\"Alternate Hypothesis:\", alternate_hypothesis)"
   ]
  },
  {
   "cell_type": "markdown",
   "metadata": {},
   "source": [
    "Find_by_date function"
   ]
  },
  {
   "cell_type": "code",
   "execution_count": 6,
   "metadata": {},
   "outputs": [],
   "source": [
    "def find_by_date(collection, date_string):\n",
    "    \"\"\"Find records in a PyMongo Collection created on a given date.\n",
    "\n",
    "    Parameters\n",
    "    ----------\n",
    "    collection : pymongo.collection.Collection\n",
    "        Collection in which to search for documents.\n",
    "    date_string : str\n",
    "        Date to query. Format must be '%Y-%m-%d', e.g. '2022-06-28'.\n",
    "\n",
    "    Returns\n",
    "    -------\n",
    "    observations : list\n",
    "        Result of query. List of documents (dictionaries).\n",
    "    \"\"\"\n",
    "    collection = ds_app\n",
    "    date_string = \"2022-05-04\"\n",
    "    # Convert `date_string` to datetime object\n",
    "    start = pd.to_datetime(date_string, format='%Y-%m-%d')\n",
    "    # Offset `start` by 1 day\n",
    "    end = start + pd.DateOffset(days=1)\n",
    "    # Create PyMongo query for no-quiz applicants b/t `start` and `end`\n",
    "    query = {\"createdAt\": {\"$gte\": start, \"$lt\": end}, \"admissionsQuiz\": \"incomplete\"}\n",
    "    # Query collection, get result\n",
    "    result=collection.find(query)\n",
    "    # Convert `result` to list\n",
    "    observations = list(result)\n",
    "    return observations"
   ]
  },
  {
   "cell_type": "markdown",
   "metadata": {},
   "source": [
    "### Transform: Designing the Experiment"
   ]
  },
  {
   "cell_type": "markdown",
   "metadata": {},
   "source": [
    "- This step involves manipulating the data extracted."
   ]
  },
  {
   "cell_type": "markdown",
   "metadata": {},
   "source": [
    "Assign_to_groups Function"
   ]
  },
  {
   "cell_type": "markdown",
   "metadata": {},
   "source": [
    "-  Takes a list of new user documents as input and adds two keys to each document. The first key should be \"inExperiment\", and its value should always be True. The second key should be \"group\", with half of the records in \"email (treatment)\" and the other half in \"no email (control)\""
   ]
  },
  {
   "cell_type": "code",
   "execution_count": 7,
   "metadata": {},
   "outputs": [],
   "source": [
    "def assign_to_groups(observations):\n",
    "    \"\"\"Randomly assigns observations to control and treatment groups.\n",
    "\n",
    "    Parameters\n",
    "    ----------\n",
    "    observations : list or pymongo.cursor.Cursor\n",
    "        List of users to assign to groups.\n",
    "\n",
    "    Returns\n",
    "    -------\n",
    "    observations : list\n",
    "        List of documents from `observations` with two additional keys:\n",
    "        `inExperiment` and `group`.\n",
    "    \"\"\"\n",
    "\n",
    "    # Shuffle `observations`\n",
    "    random.seed(42)\n",
    "    random.shuffle(observations)\n",
    "    \n",
    "    # Get index position of item at observations halfway point\n",
    "    idx = len(observations) // 2\n",
    "\n",
    "    # Assign first half of observations to control group\n",
    "    for doc in observations[:idx]:\n",
    "        doc[\"inexperiment\"] = True\n",
    "        doc[\"group\"] = \"no email (control)\"\n",
    "\n",
    "    # Assign second half of observations to treatment group\n",
    "    for doc in observations[idx:]:\n",
    "        doc[\"inexperiment\"] = True\n",
    "        doc[\"group\"] = \"email (treatment)\"\n",
    "\n",
    "    return observations"
   ]
  },
  {
   "cell_type": "markdown",
   "metadata": {},
   "source": [
    "Export_treament_emails Function "
   ]
  },
  {
   "cell_type": "markdown",
   "metadata": {},
   "source": [
    "-  Takes a list of documents (like observations_assigned) as input, creates a DataFrame with the emails of all observations in the treatment group, and saves the DataFrame as a CSV file."
   ]
  },
  {
   "cell_type": "code",
   "execution_count": 8,
   "metadata": {},
   "outputs": [],
   "source": [
    "def export_treatment_emails(observations_assigned, directory=\".\"):\n",
    "    \"\"\"Creates CSV file with email addresses of observations in treatment group.\n",
    "\n",
    "    CSV file name will include today's date, e.g. `'2022-06-28_ab-test.csv'`,\n",
    "    and a `'tag'` column where every row will be 'ab-test'.\n",
    "\n",
    "    Parameters\n",
    "    ----------\n",
    "    observations_assigned : list\n",
    "        Observations with group assignment.\n",
    "    directory : str, default='.'\n",
    "        Location for saved CSV file.\n",
    "\n",
    "    Returns\n",
    "    -------\n",
    "    None\n",
    "    \"\"\"\n",
    "    # Put `observations_assigned` docs into DataFrame\n",
    "    df = pd.DataFrame(observations_assigned)\n",
    "    \n",
    "\n",
    "    # Add `\"tag\"` column\n",
    "    df[\"tag\"] = \"ab-test\"\n",
    "\n",
    "    # Create mask for treatment group only\n",
    "    mask = df[\"group\"] == \"email (treatment)\"\n",
    "\n",
    "    \n",
    "    # Create filename with date\n",
    "    date_string=pd.Timestamp.now().strftime(format = \"%Y-%m-%d\")\n",
    "    filename = directory + \"/\" + date_string + \"_ab-test.csv\"\n",
    "    \n",
    "    # Save DataFrame to directory (email and tag only)\n",
    "    df[mask][[\"email\", \"tag\"]].to_csv(filename, index=False)"
   ]
  },
  {
   "cell_type": "markdown",
   "metadata": {},
   "source": [
    "### Load: Preparing the Data"
   ]
  },
  {
   "cell_type": "code",
   "execution_count": null,
   "metadata": {},
   "outputs": [],
   "source": [
    "updated_applicant = observations_assigned[0]\n",
    "applicant_id = updated_applicant[\"_id\"]"
   ]
  },
  {
   "cell_type": "markdown",
   "metadata": {},
   "source": [
    "update_applicants function"
   ]
  },
  {
   "cell_type": "markdown",
   "metadata": {},
   "source": [
    "- Takes a list of document like as input, updates the corresponding documents in a collection, and returns a dictionary with the results of the update."
   ]
  },
  {
   "cell_type": "code",
   "execution_count": null,
   "metadata": {},
   "outputs": [],
   "source": [
    "def update_applicants(collection, observations_assigned):\n",
    "    \"\"\"Update applicant documents in collection.\n",
    "\n",
    "    Parameters\n",
    "    ----------\n",
    "    collection : pymongo.collection.Collection\n",
    "        Collection in which documents will be updated.\n",
    "\n",
    "    observations_assigned : list\n",
    "        Documents that will be used to update collection\n",
    "\n",
    "    Returns\n",
    "    -------\n",
    "    transaction_result : dict\n",
    "        Status of update operation, including number of documents\n",
    "        and number of documents modified.\n",
    "    \"\"\"\n",
    "    # Initialize counters\n",
    "    n = 0\n",
    "    n_modified = 0\n",
    "    \n",
    "    # Iterate through applicannts\n",
    "    for doc in observations_assigned:\n",
    "        result = ds_app.update_one(filter={\"_id\": doc[\"_id\"]},update={\"$set\": doc})\n",
    "        n += result.matched_count\n",
    "        n_modified += result.modified_count\n",
    "    \n",
    "    # create results\n",
    "    transaction_result = {\"n\": n, \"nModified\": n_modified}\n",
    "    \n",
    "    return transaction_result"
   ]
  },
  {
   "cell_type": "markdown",
   "metadata": {},
   "source": [
    "### Python Classes: Building the Repository"
   ]
  },
  {
   "cell_type": "markdown",
   "metadata": {},
   "source": [
    "MongoRepository Class"
   ]
  },
  {
   "cell_type": "code",
   "execution_count": null,
   "metadata": {},
   "outputs": [],
   "source": [
    "class MongoRepository:\n",
    "    \"\"\"Repository class for interacting with MongoDB database.\n",
    "\n",
    "    Parameters\n",
    "    ----------\n",
    "    client : `pymongo.MongoClient`\n",
    "        By default, `MongoClient(host='localhost', port=27017)`.\n",
    "    db : str\n",
    "        By default, `'wqu-abtest'`.\n",
    "    collection : str\n",
    "        By default, `'ds-applicants'`.\n",
    "\n",
    "    Attributes\n",
    "    ----------\n",
    "    collection : pymongo.collection.Collection\n",
    "        All data will be extracted from and loaded to this collection.\n",
    "    \"\"\"\n",
    "\n",
    "    # Task 7.2.14\n",
    "    def __init__(self,\n",
    "                client=MongoClient(host=\"localhost\", port=27017),\n",
    "                db=\"wqu-abtest\",\n",
    "                collection=\"ds-applicants\"):\n",
    "        self.collection = client[db][collection]\n",
    "        \n",
    "    # Task 7.2.17\n",
    "    def find_by_date(self, date_string):\n",
    "        \"\"\"Find records in a PyMongo Collection created on a given date.\n",
    "\n",
    "        Parameters\n",
    "        ----------\n",
    "        collection : pymongo.collection.Collection\n",
    "            Collection in which to search for documents.\n",
    "        date_string : str\n",
    "            Date to query. Format must be '%Y-%m-%d', e.g. '2022-06-28'.\n",
    "\n",
    "        Returns\n",
    "        -------\n",
    "        observations : list\n",
    "            Result of query. List of documents (dictionaries).\n",
    "        \"\"\"\n",
    "        # Convert `date_string` to datetime object\n",
    "        start = pd.to_datetime(date_string, format='%Y-%m-%d')\n",
    "        # Offset `start` by 1 day\n",
    "        end = start + pd.DateOffset(days=1)\n",
    "        # Create PyMongo query for no-quiz applicants b/t `start` and `end`\n",
    "        query = {\"createdAt\": {\"$gte\": start, \"$lt\": end}, \"admissionsQuiz\": \"incomplete\"}\n",
    "        # Query collection, get result\n",
    "        result=self.collection.find(query)\n",
    "        # Convert `result` to list\n",
    "        observations = list(result)\n",
    "        # REMOVE}\n",
    "        return observations\n",
    "\n",
    "    # Task 7.2.18\n",
    "    def update_applicants(self, observations_assigned):\n",
    "        \"\"\"Update applicant documents in collection.\n",
    "\n",
    "        Parameters\n",
    "        ----------\n",
    "        collection : pymongo.collection.Collection\n",
    "            Collection in which documents will be updated.\n",
    "\n",
    "        observations_assigned : list\n",
    "            Documents that will be used to update collection\n",
    "\n",
    "        Returns\n",
    "        -------\n",
    "        transaction_result : dict\n",
    "            Status of update operation, including number of documents\n",
    "            and number of documents modified.\n",
    "        \"\"\"\n",
    "        # Initialize counters\n",
    "        n = 0\n",
    "        n_modified = 0\n",
    "\n",
    "        # Iterate through applicannts\n",
    "        for doc in observations_assigned:\n",
    "            result = self.collection.update_one(filter={\"_id\": doc[\"_id\"]},update={\"$set\": doc})\n",
    "            n += result.matched_count\n",
    "            n_modified += result.modified_count\n",
    "\n",
    "        # create results\n",
    "        transaction_result = {\"n\": n, \"nModified\": n_modified}\n",
    "\n",
    "        return transaction_result\n",
    "    \n",
    "    # Task 7.2.19\n",
    "    def assign_to_groups(self, date_string):\n",
    "        \"\"\"Randomly assigns observations to control and treatment groups.\n",
    "\n",
    "        Parameters\n",
    "        ----------\n",
    "        observations : list or pymongo.cursor.Cursor\n",
    "            List of users to assign to groups.\n",
    "\n",
    "        Returns \n",
    "        -------\n",
    "        observations : list\n",
    "            List of documents from `observations` with two additional keys:\n",
    "            `inExperiment` and `group`.\n",
    "        \"\"\"\n",
    "        # Get observations\n",
    "        observations = self.find_by_date(date_string)\n",
    "        \n",
    "        # Shuffle `observations`\n",
    "        random.seed(42)\n",
    "        random.shuffle(observations)\n",
    "\n",
    "        # Get index position of item at observations halfway point\n",
    "        idx = len(observations) // 2\n",
    "\n",
    "        # Assign first half of observations to control group\n",
    "        for doc in observations[:idx]:\n",
    "            doc[\"inExperiment\"] = True\n",
    "            doc[\"group\"] = \"no email (control)\"\n",
    "\n",
    "        # Assign second half of observations to treatment group\n",
    "        for doc in observations[idx:]:\n",
    "            doc[\"inExperiment\"] = True\n",
    "            doc[\"group\"] = \"email (treatment)\"\n",
    "        \n",
    "        # Update collection\n",
    "        result = self.update_applicants(observations)\n",
    "\n",
    "        return result"
   ]
  },
  {
   "cell_type": "markdown",
   "metadata": {},
   "source": [
    "@micahondiwa April 2023"
   ]
  }
 ],
 "metadata": {
  "kernelspec": {
   "display_name": "venv",
   "language": "python",
   "name": "python3"
  },
  "language_info": {
   "codemirror_mode": {
    "name": "ipython",
    "version": 3
   },
   "file_extension": ".py",
   "mimetype": "text/x-python",
   "name": "python",
   "nbconvert_exporter": "python",
   "pygments_lexer": "ipython3",
   "version": "3.12.1"
  }
 },
 "nbformat": 4,
 "nbformat_minor": 2
}
